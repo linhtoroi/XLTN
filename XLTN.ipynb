{
  "nbformat": 4,
  "nbformat_minor": 0,
  "metadata": {
    "colab": {
      "name": "XLTN.ipynb",
      "provenance": [],
      "collapsed_sections": []
    },
    "kernelspec": {
      "name": "python3",
      "display_name": "Python 3"
    },
    "language_info": {
      "name": "python"
    },
    "widgets": {
      "application/vnd.jupyter.widget-state+json": {
        "e59ab2a8f0e642b5b9e5e175d3075730": {
          "model_module": "@jupyter-widgets/controls",
          "model_name": "HBoxModel",
          "model_module_version": "1.5.0",
          "state": {
            "_dom_classes": [],
            "_model_module": "@jupyter-widgets/controls",
            "_model_module_version": "1.5.0",
            "_model_name": "HBoxModel",
            "_view_count": null,
            "_view_module": "@jupyter-widgets/controls",
            "_view_module_version": "1.5.0",
            "_view_name": "HBoxView",
            "box_style": "",
            "children": [
              "IPY_MODEL_c3dd4853fe4c4da28c942a2d7e8dd925",
              "IPY_MODEL_4bbc5002a24e45c8a939132c95071acc",
              "IPY_MODEL_817d1f4508d54212b4f73cf014d8c49f"
            ],
            "layout": "IPY_MODEL_f3bce692e35545eb9ee95fefc29d8357"
          }
        },
        "c3dd4853fe4c4da28c942a2d7e8dd925": {
          "model_module": "@jupyter-widgets/controls",
          "model_name": "HTMLModel",
          "model_module_version": "1.5.0",
          "state": {
            "_dom_classes": [],
            "_model_module": "@jupyter-widgets/controls",
            "_model_module_version": "1.5.0",
            "_model_name": "HTMLModel",
            "_view_count": null,
            "_view_module": "@jupyter-widgets/controls",
            "_view_module_version": "1.5.0",
            "_view_name": "HTMLView",
            "description": "",
            "description_tooltip": null,
            "layout": "IPY_MODEL_697f6ea8acf2401ebacb407ae48f1aa4",
            "placeholder": "​",
            "style": "IPY_MODEL_c7a9e79aed684fb4b689692bdfefa74b",
            "value": "100%"
          }
        },
        "4bbc5002a24e45c8a939132c95071acc": {
          "model_module": "@jupyter-widgets/controls",
          "model_name": "FloatProgressModel",
          "model_module_version": "1.5.0",
          "state": {
            "_dom_classes": [],
            "_model_module": "@jupyter-widgets/controls",
            "_model_module_version": "1.5.0",
            "_model_name": "FloatProgressModel",
            "_view_count": null,
            "_view_module": "@jupyter-widgets/controls",
            "_view_module_version": "1.5.0",
            "_view_name": "ProgressView",
            "bar_style": "success",
            "description": "",
            "description_tooltip": null,
            "layout": "IPY_MODEL_310b56a68b9a4075adae4f94d42c7048",
            "max": 100,
            "min": 0,
            "orientation": "horizontal",
            "style": "IPY_MODEL_402e1ec8e1bc4634999cc0ac2fc0010f",
            "value": 100
          }
        },
        "817d1f4508d54212b4f73cf014d8c49f": {
          "model_module": "@jupyter-widgets/controls",
          "model_name": "HTMLModel",
          "model_module_version": "1.5.0",
          "state": {
            "_dom_classes": [],
            "_model_module": "@jupyter-widgets/controls",
            "_model_module_version": "1.5.0",
            "_model_name": "HTMLModel",
            "_view_count": null,
            "_view_module": "@jupyter-widgets/controls",
            "_view_module_version": "1.5.0",
            "_view_name": "HTMLView",
            "description": "",
            "description_tooltip": null,
            "layout": "IPY_MODEL_e6e19d3459c349079a14e7a1d3fff248",
            "placeholder": "​",
            "style": "IPY_MODEL_ffb177cfbb6f4c15a6d7851b74a89953",
            "value": " 100/100 [04:10&lt;00:00,  2.65s/it]"
          }
        },
        "f3bce692e35545eb9ee95fefc29d8357": {
          "model_module": "@jupyter-widgets/base",
          "model_name": "LayoutModel",
          "model_module_version": "1.2.0",
          "state": {
            "_model_module": "@jupyter-widgets/base",
            "_model_module_version": "1.2.0",
            "_model_name": "LayoutModel",
            "_view_count": null,
            "_view_module": "@jupyter-widgets/base",
            "_view_module_version": "1.2.0",
            "_view_name": "LayoutView",
            "align_content": null,
            "align_items": null,
            "align_self": null,
            "border": null,
            "bottom": null,
            "display": null,
            "flex": null,
            "flex_flow": null,
            "grid_area": null,
            "grid_auto_columns": null,
            "grid_auto_flow": null,
            "grid_auto_rows": null,
            "grid_column": null,
            "grid_gap": null,
            "grid_row": null,
            "grid_template_areas": null,
            "grid_template_columns": null,
            "grid_template_rows": null,
            "height": null,
            "justify_content": null,
            "justify_items": null,
            "left": null,
            "margin": null,
            "max_height": null,
            "max_width": null,
            "min_height": null,
            "min_width": null,
            "object_fit": null,
            "object_position": null,
            "order": null,
            "overflow": null,
            "overflow_x": null,
            "overflow_y": null,
            "padding": null,
            "right": null,
            "top": null,
            "visibility": null,
            "width": null
          }
        },
        "697f6ea8acf2401ebacb407ae48f1aa4": {
          "model_module": "@jupyter-widgets/base",
          "model_name": "LayoutModel",
          "model_module_version": "1.2.0",
          "state": {
            "_model_module": "@jupyter-widgets/base",
            "_model_module_version": "1.2.0",
            "_model_name": "LayoutModel",
            "_view_count": null,
            "_view_module": "@jupyter-widgets/base",
            "_view_module_version": "1.2.0",
            "_view_name": "LayoutView",
            "align_content": null,
            "align_items": null,
            "align_self": null,
            "border": null,
            "bottom": null,
            "display": null,
            "flex": null,
            "flex_flow": null,
            "grid_area": null,
            "grid_auto_columns": null,
            "grid_auto_flow": null,
            "grid_auto_rows": null,
            "grid_column": null,
            "grid_gap": null,
            "grid_row": null,
            "grid_template_areas": null,
            "grid_template_columns": null,
            "grid_template_rows": null,
            "height": null,
            "justify_content": null,
            "justify_items": null,
            "left": null,
            "margin": null,
            "max_height": null,
            "max_width": null,
            "min_height": null,
            "min_width": null,
            "object_fit": null,
            "object_position": null,
            "order": null,
            "overflow": null,
            "overflow_x": null,
            "overflow_y": null,
            "padding": null,
            "right": null,
            "top": null,
            "visibility": null,
            "width": null
          }
        },
        "c7a9e79aed684fb4b689692bdfefa74b": {
          "model_module": "@jupyter-widgets/controls",
          "model_name": "DescriptionStyleModel",
          "model_module_version": "1.5.0",
          "state": {
            "_model_module": "@jupyter-widgets/controls",
            "_model_module_version": "1.5.0",
            "_model_name": "DescriptionStyleModel",
            "_view_count": null,
            "_view_module": "@jupyter-widgets/base",
            "_view_module_version": "1.2.0",
            "_view_name": "StyleView",
            "description_width": ""
          }
        },
        "310b56a68b9a4075adae4f94d42c7048": {
          "model_module": "@jupyter-widgets/base",
          "model_name": "LayoutModel",
          "model_module_version": "1.2.0",
          "state": {
            "_model_module": "@jupyter-widgets/base",
            "_model_module_version": "1.2.0",
            "_model_name": "LayoutModel",
            "_view_count": null,
            "_view_module": "@jupyter-widgets/base",
            "_view_module_version": "1.2.0",
            "_view_name": "LayoutView",
            "align_content": null,
            "align_items": null,
            "align_self": null,
            "border": null,
            "bottom": null,
            "display": null,
            "flex": null,
            "flex_flow": null,
            "grid_area": null,
            "grid_auto_columns": null,
            "grid_auto_flow": null,
            "grid_auto_rows": null,
            "grid_column": null,
            "grid_gap": null,
            "grid_row": null,
            "grid_template_areas": null,
            "grid_template_columns": null,
            "grid_template_rows": null,
            "height": null,
            "justify_content": null,
            "justify_items": null,
            "left": null,
            "margin": null,
            "max_height": null,
            "max_width": null,
            "min_height": null,
            "min_width": null,
            "object_fit": null,
            "object_position": null,
            "order": null,
            "overflow": null,
            "overflow_x": null,
            "overflow_y": null,
            "padding": null,
            "right": null,
            "top": null,
            "visibility": null,
            "width": null
          }
        },
        "402e1ec8e1bc4634999cc0ac2fc0010f": {
          "model_module": "@jupyter-widgets/controls",
          "model_name": "ProgressStyleModel",
          "model_module_version": "1.5.0",
          "state": {
            "_model_module": "@jupyter-widgets/controls",
            "_model_module_version": "1.5.0",
            "_model_name": "ProgressStyleModel",
            "_view_count": null,
            "_view_module": "@jupyter-widgets/base",
            "_view_module_version": "1.2.0",
            "_view_name": "StyleView",
            "bar_color": null,
            "description_width": ""
          }
        },
        "e6e19d3459c349079a14e7a1d3fff248": {
          "model_module": "@jupyter-widgets/base",
          "model_name": "LayoutModel",
          "model_module_version": "1.2.0",
          "state": {
            "_model_module": "@jupyter-widgets/base",
            "_model_module_version": "1.2.0",
            "_model_name": "LayoutModel",
            "_view_count": null,
            "_view_module": "@jupyter-widgets/base",
            "_view_module_version": "1.2.0",
            "_view_name": "LayoutView",
            "align_content": null,
            "align_items": null,
            "align_self": null,
            "border": null,
            "bottom": null,
            "display": null,
            "flex": null,
            "flex_flow": null,
            "grid_area": null,
            "grid_auto_columns": null,
            "grid_auto_flow": null,
            "grid_auto_rows": null,
            "grid_column": null,
            "grid_gap": null,
            "grid_row": null,
            "grid_template_areas": null,
            "grid_template_columns": null,
            "grid_template_rows": null,
            "height": null,
            "justify_content": null,
            "justify_items": null,
            "left": null,
            "margin": null,
            "max_height": null,
            "max_width": null,
            "min_height": null,
            "min_width": null,
            "object_fit": null,
            "object_position": null,
            "order": null,
            "overflow": null,
            "overflow_x": null,
            "overflow_y": null,
            "padding": null,
            "right": null,
            "top": null,
            "visibility": null,
            "width": null
          }
        },
        "ffb177cfbb6f4c15a6d7851b74a89953": {
          "model_module": "@jupyter-widgets/controls",
          "model_name": "DescriptionStyleModel",
          "model_module_version": "1.5.0",
          "state": {
            "_model_module": "@jupyter-widgets/controls",
            "_model_module_version": "1.5.0",
            "_model_name": "DescriptionStyleModel",
            "_view_count": null,
            "_view_module": "@jupyter-widgets/base",
            "_view_module_version": "1.2.0",
            "_view_name": "StyleView",
            "description_width": ""
          }
        },
        "a63d0545367f4722975639eb64eefc6e": {
          "model_module": "@jupyter-widgets/controls",
          "model_name": "HBoxModel",
          "model_module_version": "1.5.0",
          "state": {
            "_dom_classes": [],
            "_model_module": "@jupyter-widgets/controls",
            "_model_module_version": "1.5.0",
            "_model_name": "HBoxModel",
            "_view_count": null,
            "_view_module": "@jupyter-widgets/controls",
            "_view_module_version": "1.5.0",
            "_view_name": "HBoxView",
            "box_style": "",
            "children": [
              "IPY_MODEL_65a216cb61394106abfdc810cb5d4207",
              "IPY_MODEL_bc36e59f3ab2475782b939edce81da5f",
              "IPY_MODEL_5677101bf1d44fbd8df0d6a487755449"
            ],
            "layout": "IPY_MODEL_5fbb1d19bcb4408aaa908e42ee6dddec"
          }
        },
        "65a216cb61394106abfdc810cb5d4207": {
          "model_module": "@jupyter-widgets/controls",
          "model_name": "HTMLModel",
          "model_module_version": "1.5.0",
          "state": {
            "_dom_classes": [],
            "_model_module": "@jupyter-widgets/controls",
            "_model_module_version": "1.5.0",
            "_model_name": "HTMLModel",
            "_view_count": null,
            "_view_module": "@jupyter-widgets/controls",
            "_view_module_version": "1.5.0",
            "_view_name": "HTMLView",
            "description": "",
            "description_tooltip": null,
            "layout": "IPY_MODEL_1998baa7a8df4dbf92e3e3d209c1d52b",
            "placeholder": "​",
            "style": "IPY_MODEL_76ff23c12e94411cb1409d26fe070800",
            "value": "100%"
          }
        },
        "bc36e59f3ab2475782b939edce81da5f": {
          "model_module": "@jupyter-widgets/controls",
          "model_name": "FloatProgressModel",
          "model_module_version": "1.5.0",
          "state": {
            "_dom_classes": [],
            "_model_module": "@jupyter-widgets/controls",
            "_model_module_version": "1.5.0",
            "_model_name": "FloatProgressModel",
            "_view_count": null,
            "_view_module": "@jupyter-widgets/controls",
            "_view_module_version": "1.5.0",
            "_view_name": "ProgressView",
            "bar_style": "success",
            "description": "",
            "description_tooltip": null,
            "layout": "IPY_MODEL_1c6e40426dc94e6c88463183449f0b81",
            "max": 100,
            "min": 0,
            "orientation": "horizontal",
            "style": "IPY_MODEL_b795ab1f4b6246fca6daea90c7383889",
            "value": 100
          }
        },
        "5677101bf1d44fbd8df0d6a487755449": {
          "model_module": "@jupyter-widgets/controls",
          "model_name": "HTMLModel",
          "model_module_version": "1.5.0",
          "state": {
            "_dom_classes": [],
            "_model_module": "@jupyter-widgets/controls",
            "_model_module_version": "1.5.0",
            "_model_name": "HTMLModel",
            "_view_count": null,
            "_view_module": "@jupyter-widgets/controls",
            "_view_module_version": "1.5.0",
            "_view_name": "HTMLView",
            "description": "",
            "description_tooltip": null,
            "layout": "IPY_MODEL_ae3cc3bd293b43bab13118dcc0a440c1",
            "placeholder": "​",
            "style": "IPY_MODEL_1e32abe62d834367a1458e7510c1bf15",
            "value": " 100/100 [00:49&lt;00:00,  1.87it/s]"
          }
        },
        "5fbb1d19bcb4408aaa908e42ee6dddec": {
          "model_module": "@jupyter-widgets/base",
          "model_name": "LayoutModel",
          "model_module_version": "1.2.0",
          "state": {
            "_model_module": "@jupyter-widgets/base",
            "_model_module_version": "1.2.0",
            "_model_name": "LayoutModel",
            "_view_count": null,
            "_view_module": "@jupyter-widgets/base",
            "_view_module_version": "1.2.0",
            "_view_name": "LayoutView",
            "align_content": null,
            "align_items": null,
            "align_self": null,
            "border": null,
            "bottom": null,
            "display": null,
            "flex": null,
            "flex_flow": null,
            "grid_area": null,
            "grid_auto_columns": null,
            "grid_auto_flow": null,
            "grid_auto_rows": null,
            "grid_column": null,
            "grid_gap": null,
            "grid_row": null,
            "grid_template_areas": null,
            "grid_template_columns": null,
            "grid_template_rows": null,
            "height": null,
            "justify_content": null,
            "justify_items": null,
            "left": null,
            "margin": null,
            "max_height": null,
            "max_width": null,
            "min_height": null,
            "min_width": null,
            "object_fit": null,
            "object_position": null,
            "order": null,
            "overflow": null,
            "overflow_x": null,
            "overflow_y": null,
            "padding": null,
            "right": null,
            "top": null,
            "visibility": null,
            "width": null
          }
        },
        "1998baa7a8df4dbf92e3e3d209c1d52b": {
          "model_module": "@jupyter-widgets/base",
          "model_name": "LayoutModel",
          "model_module_version": "1.2.0",
          "state": {
            "_model_module": "@jupyter-widgets/base",
            "_model_module_version": "1.2.0",
            "_model_name": "LayoutModel",
            "_view_count": null,
            "_view_module": "@jupyter-widgets/base",
            "_view_module_version": "1.2.0",
            "_view_name": "LayoutView",
            "align_content": null,
            "align_items": null,
            "align_self": null,
            "border": null,
            "bottom": null,
            "display": null,
            "flex": null,
            "flex_flow": null,
            "grid_area": null,
            "grid_auto_columns": null,
            "grid_auto_flow": null,
            "grid_auto_rows": null,
            "grid_column": null,
            "grid_gap": null,
            "grid_row": null,
            "grid_template_areas": null,
            "grid_template_columns": null,
            "grid_template_rows": null,
            "height": null,
            "justify_content": null,
            "justify_items": null,
            "left": null,
            "margin": null,
            "max_height": null,
            "max_width": null,
            "min_height": null,
            "min_width": null,
            "object_fit": null,
            "object_position": null,
            "order": null,
            "overflow": null,
            "overflow_x": null,
            "overflow_y": null,
            "padding": null,
            "right": null,
            "top": null,
            "visibility": null,
            "width": null
          }
        },
        "76ff23c12e94411cb1409d26fe070800": {
          "model_module": "@jupyter-widgets/controls",
          "model_name": "DescriptionStyleModel",
          "model_module_version": "1.5.0",
          "state": {
            "_model_module": "@jupyter-widgets/controls",
            "_model_module_version": "1.5.0",
            "_model_name": "DescriptionStyleModel",
            "_view_count": null,
            "_view_module": "@jupyter-widgets/base",
            "_view_module_version": "1.2.0",
            "_view_name": "StyleView",
            "description_width": ""
          }
        },
        "1c6e40426dc94e6c88463183449f0b81": {
          "model_module": "@jupyter-widgets/base",
          "model_name": "LayoutModel",
          "model_module_version": "1.2.0",
          "state": {
            "_model_module": "@jupyter-widgets/base",
            "_model_module_version": "1.2.0",
            "_model_name": "LayoutModel",
            "_view_count": null,
            "_view_module": "@jupyter-widgets/base",
            "_view_module_version": "1.2.0",
            "_view_name": "LayoutView",
            "align_content": null,
            "align_items": null,
            "align_self": null,
            "border": null,
            "bottom": null,
            "display": null,
            "flex": null,
            "flex_flow": null,
            "grid_area": null,
            "grid_auto_columns": null,
            "grid_auto_flow": null,
            "grid_auto_rows": null,
            "grid_column": null,
            "grid_gap": null,
            "grid_row": null,
            "grid_template_areas": null,
            "grid_template_columns": null,
            "grid_template_rows": null,
            "height": null,
            "justify_content": null,
            "justify_items": null,
            "left": null,
            "margin": null,
            "max_height": null,
            "max_width": null,
            "min_height": null,
            "min_width": null,
            "object_fit": null,
            "object_position": null,
            "order": null,
            "overflow": null,
            "overflow_x": null,
            "overflow_y": null,
            "padding": null,
            "right": null,
            "top": null,
            "visibility": null,
            "width": null
          }
        },
        "b795ab1f4b6246fca6daea90c7383889": {
          "model_module": "@jupyter-widgets/controls",
          "model_name": "ProgressStyleModel",
          "model_module_version": "1.5.0",
          "state": {
            "_model_module": "@jupyter-widgets/controls",
            "_model_module_version": "1.5.0",
            "_model_name": "ProgressStyleModel",
            "_view_count": null,
            "_view_module": "@jupyter-widgets/base",
            "_view_module_version": "1.2.0",
            "_view_name": "StyleView",
            "bar_color": null,
            "description_width": ""
          }
        },
        "ae3cc3bd293b43bab13118dcc0a440c1": {
          "model_module": "@jupyter-widgets/base",
          "model_name": "LayoutModel",
          "model_module_version": "1.2.0",
          "state": {
            "_model_module": "@jupyter-widgets/base",
            "_model_module_version": "1.2.0",
            "_model_name": "LayoutModel",
            "_view_count": null,
            "_view_module": "@jupyter-widgets/base",
            "_view_module_version": "1.2.0",
            "_view_name": "LayoutView",
            "align_content": null,
            "align_items": null,
            "align_self": null,
            "border": null,
            "bottom": null,
            "display": null,
            "flex": null,
            "flex_flow": null,
            "grid_area": null,
            "grid_auto_columns": null,
            "grid_auto_flow": null,
            "grid_auto_rows": null,
            "grid_column": null,
            "grid_gap": null,
            "grid_row": null,
            "grid_template_areas": null,
            "grid_template_columns": null,
            "grid_template_rows": null,
            "height": null,
            "justify_content": null,
            "justify_items": null,
            "left": null,
            "margin": null,
            "max_height": null,
            "max_width": null,
            "min_height": null,
            "min_width": null,
            "object_fit": null,
            "object_position": null,
            "order": null,
            "overflow": null,
            "overflow_x": null,
            "overflow_y": null,
            "padding": null,
            "right": null,
            "top": null,
            "visibility": null,
            "width": null
          }
        },
        "1e32abe62d834367a1458e7510c1bf15": {
          "model_module": "@jupyter-widgets/controls",
          "model_name": "DescriptionStyleModel",
          "model_module_version": "1.5.0",
          "state": {
            "_model_module": "@jupyter-widgets/controls",
            "_model_module_version": "1.5.0",
            "_model_name": "DescriptionStyleModel",
            "_view_count": null,
            "_view_module": "@jupyter-widgets/base",
            "_view_module_version": "1.2.0",
            "_view_name": "StyleView",
            "description_width": ""
          }
        }
      }
    }
  },
  "cells": [
    {
      "cell_type": "code",
      "execution_count": null,
      "metadata": {
        "colab": {
          "base_uri": "https://localhost:8080/"
        },
        "id": "2i5RxsEku2kg",
        "outputId": "d0abbb47-8548-424b-85b1-2f6511b3182b"
      },
      "outputs": [
        {
          "output_type": "stream",
          "name": "stdout",
          "text": [
            "Mounted at /content/drive/\n"
          ]
        }
      ],
      "source": [
        "!pip -q install librosa\n",
        "from google.colab import drive\n",
        "drive.mount('/content/drive/')"
      ]
    },
    {
      "cell_type": "code",
      "source": [
        "import librosa, librosa.display\n",
        "import matplotlib.pyplot as plt\n",
        "import numpy as np\n",
        "import IPython.display as idsp\n",
        "from matplotlib.patches import ConnectionPatch\n",
        "import scipy.spatial.distance as dist\n",
        "from numpy.lib.function_base import extract"
      ],
      "metadata": {
        "id": "oVrXKvw5u6nV"
      },
      "execution_count": 272,
      "outputs": []
    },
    {
      "cell_type": "markdown",
      "source": [
        "#MFCC"
      ],
      "metadata": {
        "id": "tRcW2PktijOS"
      }
    },
    {
      "cell_type": "code",
      "source": [
        "class MFCC():\n",
        "  def __init__(self, path=['18020758_HoangPhuongLinh/26_30','18020909_Trần Công Minh/c1','18020909_Trần Công Minh/c3'], keep_all=False, keep_size=2):\n",
        "    PATH = '/content/drive/MyDrive/Ex1-2022/02/'\n",
        "    text = {}\n",
        "    for p in path:\n",
        "      if '18020758_HoangPhuongLinh' in p:\n",
        "        text[p] = open(PATH+p+'.txt').read().split('\\n')[:-1]\n",
        "      else:\n",
        "        text[p] = open(PATH+p+'.txt').read().split('\\n')[:-1]\n",
        "    \n",
        "    times, commands = self.split_data(text, dict(), dict())\n",
        "\n",
        "    sound = {}\n",
        "    sr = {}\n",
        "    for p in path:\n",
        "      sound[p], sr[p] = librosa.load(PATH+p+'.wav', duration=22050)\n",
        "\n",
        "    self.sounds = {}\n",
        "    for p in commands:\n",
        "      for e, i in enumerate(commands[p]):\n",
        "        if i not in self.sounds:\n",
        "          self.sounds[i] = []\n",
        "        self.sounds[i].append([sound[p][int(22050*times[p][e][0]):int(22050*times[p][e][1])],sr[p]])\n",
        "\n",
        "    self.sounds_sr = {}\n",
        "    for command in self.sounds:\n",
        "      if command not in self.sounds_sr:\n",
        "        self.sounds_sr[command] = []\n",
        "      if keep_all:\n",
        "        self.sounds_sr[command]+=self.sounds[command]\n",
        "      else:\n",
        "        for i in range(keep_size):\n",
        "          ra = np.random.randint(len(command))\n",
        "          self.sounds_sr[command].append(self.sounds[command][i])\n",
        "\n",
        "    self.mfccs_features = {}\n",
        "    self.extract_feature()\n",
        "  \n",
        "  def split_data(self, text, times, commands):\n",
        "    for p in text:\n",
        "      if p not in times:\n",
        "        times[p] = []\n",
        "        commands[p] = []\n",
        "      for i in text[p]:\n",
        "        times[p].append([float(i.split('\\t')[0]),float(i.split('\\t')[1])])\n",
        "        commands[p].append(i.split('\\t')[2])\n",
        "    return times, commands\n",
        "\n",
        "  def extract_feature(self):\n",
        "    for command in self.sounds_sr:\n",
        "      if command not in self.mfccs_features:\n",
        "        self.mfccs_features[command] = []\n",
        "      for sound, sr in self.sounds_sr[command]:\n",
        "        # print(len(sound))\n",
        "        if len(sound)>9000:\n",
        "          self.mfccs_features[command].append(self.extract_feature_mfcc(sound, sr))\n",
        "\n",
        "  def extract_feature_mfcc(self,sound, sr):\n",
        "      mfcc = librosa.feature.mfcc(y=sound, sr=sr, n_mfcc=13)\n",
        "      mfcc_delta = librosa.feature.delta(mfcc)\n",
        "      mfcc_delta2 = librosa.feature.delta(mfcc, order=2)\n",
        "      return np.concatenate((mfcc, mfcc_delta, mfcc_delta2))"
      ],
      "metadata": {
        "id": "SwxYqTy_uTXj"
      },
      "execution_count": 292,
      "outputs": []
    },
    {
      "cell_type": "markdown",
      "source": [
        "#Speech Recognition DTW"
      ],
      "metadata": {
        "id": "Ai_Uiw2eipFB"
      }
    },
    {
      "cell_type": "code",
      "source": [
        "class SpeechRecognitionDTW():\n",
        "  def __init__(self):\n",
        "    mfcc =  MFCC()\n",
        "    self.features = mfcc.mfccs_features\n",
        "\n",
        "  def dp(self, dist_mat):\n",
        "\n",
        "      N, M = dist_mat.shape\n",
        "      cost_mat = np.zeros((N + 1, M + 1))\n",
        "      for i in range(1, N + 1):\n",
        "          cost_mat[i, 0] = np.inf\n",
        "      for i in range(1, M + 1):\n",
        "          cost_mat[0, i] = np.inf\n",
        "\n",
        "      traceback_mat = np.zeros((N, M))\n",
        "      for i in range(N):\n",
        "          for j in range(M):\n",
        "              penalty = [\n",
        "                  cost_mat[i, j],   \n",
        "                  cost_mat[i, j + 1],\n",
        "                  cost_mat[i + 1, j]] \n",
        "              i_penalty = np.argmin(penalty)\n",
        "              cost_mat[i + 1, j + 1] = dist_mat[i, j] + penalty[i_penalty]\n",
        "              traceback_mat[i, j] = i_penalty\n",
        "\n",
        "      i = N - 1\n",
        "      j = M - 1\n",
        "      path = [(i, j)]\n",
        "      while i > 0 or j > 0:\n",
        "          tb_type = traceback_mat[i, j]\n",
        "          if tb_type == 0:\n",
        "              i = i - 1\n",
        "              j = j - 1\n",
        "          elif tb_type == 1:\n",
        "              i = i - 1\n",
        "          elif tb_type == 2:\n",
        "              j = j - 1\n",
        "          path.append((i, j))\n",
        "\n",
        "      cost_mat = cost_mat[1:, 1:]\n",
        "      return (path[::-1], cost_mat)\n",
        "\n",
        "  def dtw(self, sound, sr):\n",
        "    mfcc = librosa.feature.mfcc(y=sound, sr=sr, n_mfcc=13)\n",
        "    mfcc_delta = librosa.feature.delta(mfcc)\n",
        "    mfcc_delta2 = librosa.feature.delta(mfcc, order=2)\n",
        "    feature = np.concatenate((mfcc, mfcc_delta, mfcc_delta2))\n",
        "    count = {}\n",
        "    for command in self.features:\n",
        "      if command not in count:\n",
        "        count[command] = []\n",
        "      for fea in self.features[command]:\n",
        "        dist_mat = dist.cdist(feature.T, fea.T, \"cosine\")\n",
        "        path, cost_mat = self.dp(dist_mat)\n",
        "        count[command].append(cost_mat[-1, -1])\n",
        "    \n",
        "        average = dict([(k,np.min(v)) for (k,v) in count.items()])\n",
        "    return min(average, key=average.get)"
      ],
      "metadata": {
        "id": "iG0bjsv3F7BW"
      },
      "execution_count": null,
      "outputs": []
    },
    {
      "cell_type": "markdown",
      "source": [
        "#HMM"
      ],
      "metadata": {
        "id": "5y4llB-1_-Iq"
      }
    },
    {
      "cell_type": "code",
      "source": [
        "!pip -q install hmmlearn"
      ],
      "metadata": {
        "id": "e0gmGyP-nwaZ",
        "colab": {
          "base_uri": "https://localhost:8080/"
        },
        "outputId": "407be2d4-7603-4346-df10-b908d6fc5ebe"
      },
      "execution_count": null,
      "outputs": [
        {
          "output_type": "stream",
          "name": "stdout",
          "text": [
            "\u001b[?25l\r\u001b[K     |██▌                             | 10 kB 21.9 MB/s eta 0:00:01\r\u001b[K     |█████                           | 20 kB 14.1 MB/s eta 0:00:01\r\u001b[K     |███████▋                        | 30 kB 9.9 MB/s eta 0:00:01\r\u001b[K     |██████████                      | 40 kB 9.3 MB/s eta 0:00:01\r\u001b[K     |████████████▋                   | 51 kB 4.5 MB/s eta 0:00:01\r\u001b[K     |███████████████▏                | 61 kB 5.3 MB/s eta 0:00:01\r\u001b[K     |█████████████████▊              | 71 kB 5.7 MB/s eta 0:00:01\r\u001b[K     |████████████████████▏           | 81 kB 5.9 MB/s eta 0:00:01\r\u001b[K     |██████████████████████▊         | 92 kB 6.6 MB/s eta 0:00:01\r\u001b[K     |█████████████████████████▎      | 102 kB 5.2 MB/s eta 0:00:01\r\u001b[K     |███████████████████████████▊    | 112 kB 5.2 MB/s eta 0:00:01\r\u001b[K     |██████████████████████████████▎ | 122 kB 5.2 MB/s eta 0:00:01\r\u001b[K     |████████████████████████████████| 129 kB 5.2 MB/s \n",
            "\u001b[?25h"
          ]
        }
      ]
    },
    {
      "cell_type": "code",
      "source": [
        "from hmmlearn import hmm\n",
        "import os"
      ],
      "metadata": {
        "id": "rlZImElxdWLW"
      },
      "execution_count": null,
      "outputs": []
    },
    {
      "cell_type": "code",
      "source": [
        "class HMM():\n",
        "   def __init__(self, n_components=4, path=['18020758_HoangPhuongLinh/','18020909_Trần Công Minh/']):\n",
        "      PATH = '/content/drive/MyDrive/Ex1-2022/02/'\n",
        "      subfolder = []\n",
        "      for p in path:\n",
        "        subfolder+=[os.path.join(PATH+p,i) for i in os.listdir(PATH+p)]\n",
        "      k = [i.replace('/content/drive/MyDrive/Ex1-2022/02/', '').replace('.wav', '') for i in subfolder if 'txt' not in i]\n",
        "      mfcc = MFCC(k, keep_all=True)\n",
        "      features = mfcc.mfccs_features\n",
        "\n",
        "      self.hmm_models = []\n",
        "\n",
        "      for i in features:\n",
        "        # fea = np.concatenate([mf.T for mf in features[i]])\n",
        "        models = []\n",
        "        hmm_trainer = hmm.GaussianHMM(n_components=n_components, covariance_type='diag', n_iter=1800)\n",
        "        for j in features[i]:\n",
        "          models = hmm_trainer.fit(j.T)\n",
        "        self.hmm_models.append((models, i))\n",
        "        hmm_trainer = None\n",
        "\n",
        "   def get_score(self, sound, sr):\n",
        "      mfcc = librosa.feature.mfcc(y=sound, sr=sr, n_mfcc=13)\n",
        "      mfcc_delta = librosa.feature.delta(mfcc)\n",
        "      mfcc_delta2 = librosa.feature.delta(mfcc, order=2)\n",
        "      feature = np.concatenate((mfcc, mfcc_delta, mfcc_delta2)).T\n",
        "      scores=[]\n",
        "      for item in self.hmm_models:\n",
        "        hmm_model, label = item\n",
        "        score = hmm_model.score(feature)\n",
        "        scores.append(score)\n",
        "\n",
        "      index=np.array(scores).argmax()\n",
        "      return self.hmm_models[index][1]"
      ],
      "metadata": {
        "id": "zhrcGKZ3JDuh"
      },
      "execution_count": 291,
      "outputs": []
    },
    {
      "cell_type": "markdown",
      "source": [
        "#Đánh giá mô hình DTW"
      ],
      "metadata": {
        "id": "eNkNv9NkiwZJ"
      }
    },
    {
      "cell_type": "code",
      "source": [
        "speechrecognitionDTW = SpeechRecognitionDTW()"
      ],
      "metadata": {
        "id": "elQXdsKa1YFR"
      },
      "execution_count": null,
      "outputs": []
    },
    {
      "cell_type": "code",
      "source": [
        "k = 1\n",
        "y, sr = librosa.load(f'/content/drive/MyDrive/Ex1-2022/02/18021371_NguyenManhTuan/c{k}.wav', duration=22050)\n",
        "t = open(f'/content/drive/MyDrive/Ex1-2022/02/18021371_NguyenManhTuan/c{k}.txt').read().split('\\n')\n",
        "times = []\n",
        "commands = []\n",
        "for i in t[:-1]:\n",
        "  times.append([float(i.split('\\t')[0]),float(i.split('\\t')[1])])\n",
        "  commands.append(i.split('\\t')[2])\n",
        "command_dict = {}\n",
        "for e, i in enumerate(commands):\n",
        "  if i not in command_dict:\n",
        "    command_dict[i] = []\n",
        "  command_dict[i].append(times[e])\n",
        "\n",
        "WORD = 'xuong'\n",
        "s = y[int(22050*command_dict[WORD][0][0]):int(22050*command_dict[WORD][0][1])]\n",
        "print(speechrecognitionDTW.dtw(s, sr))\n",
        "\n",
        "idsp.Audio(data=s, rate=sr)"
      ],
      "metadata": {
        "colab": {
          "base_uri": "https://localhost:8080/",
          "height": 93
        },
        "id": "S4CNktsULb6J",
        "outputId": "4d30ddb6-2fff-4efd-82a0-88515bc2b7b0"
      },
      "execution_count": null,
      "outputs": [
        {
          "output_type": "stream",
          "name": "stdout",
          "text": [
            "xuong\n"
          ]
        },
        {
          "output_type": "execute_result",
          "data": {
            "text/plain": [
              "<IPython.lib.display.Audio object>"
            ],
            "text/html": [
              "\n",
              "                <audio controls=\"controls\" >\n",
              "                    <source src=\"data:audio/wav;base64,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\" type=\"audio/wav\" />\n",
              "                    Your browser does not support the audio element.\n",
              "                </audio>\n",
              "              "
            ]
          },
          "metadata": {},
          "execution_count": 7
        }
      ]
    },
    {
      "cell_type": "code",
      "source": [
        "import tqdm\n",
        "pre = []\n",
        "lab = []\n",
        "for k in tqdm.tqdm_notebook(range(1,101)):\n",
        "  y, sr = librosa.load(f'/content/drive/MyDrive/Ex1-2022/02/18021371_NguyenManhTuan/c{k}.wav', duration=22050)\n",
        "  t = open(f'/content/drive/MyDrive/Ex1-2022/02/18021371_NguyenManhTuan/c{k}.txt').read().split('\\n')\n",
        "\n",
        "  times = []\n",
        "  commands = []\n",
        "  for i in t[:-1]:\n",
        "    times.append([float(i.split('\\t')[0]),float(i.split('\\t')[1])])\n",
        "    commands.append(i.split('\\t')[2])\n",
        "\n",
        "  for i in range(len(times)):\n",
        "    if times[i][1] - times[i][0] > 0.2:\n",
        "      pre.append(speechrecognitionDTW.dtw(y[int(22050*times[i][0]):int(22050*times[i][1])], sr))\n",
        "      lab.append(commands[i])"
      ],
      "metadata": {
        "colab": {
          "base_uri": "https://localhost:8080/",
          "height": 101,
          "referenced_widgets": [
            "e59ab2a8f0e642b5b9e5e175d3075730",
            "c3dd4853fe4c4da28c942a2d7e8dd925",
            "4bbc5002a24e45c8a939132c95071acc",
            "817d1f4508d54212b4f73cf014d8c49f",
            "f3bce692e35545eb9ee95fefc29d8357",
            "697f6ea8acf2401ebacb407ae48f1aa4",
            "c7a9e79aed684fb4b689692bdfefa74b",
            "310b56a68b9a4075adae4f94d42c7048",
            "402e1ec8e1bc4634999cc0ac2fc0010f",
            "e6e19d3459c349079a14e7a1d3fff248",
            "ffb177cfbb6f4c15a6d7851b74a89953"
          ]
        },
        "id": "9CLr8571SxJr",
        "outputId": "62da8c2c-b702-4fef-d52a-9decfc47df6e"
      },
      "execution_count": null,
      "outputs": [
        {
          "output_type": "stream",
          "name": "stderr",
          "text": [
            "/usr/local/lib/python3.7/dist-packages/ipykernel_launcher.py:4: TqdmDeprecationWarning: This function will be removed in tqdm==5.0.0\n",
            "Please use `tqdm.notebook.tqdm` instead of `tqdm.tqdm_notebook`\n",
            "  after removing the cwd from sys.path.\n"
          ]
        },
        {
          "output_type": "display_data",
          "data": {
            "text/plain": [
              "  0%|          | 0/100 [00:00<?, ?it/s]"
            ],
            "application/vnd.jupyter.widget-view+json": {
              "version_major": 2,
              "version_minor": 0,
              "model_id": "e59ab2a8f0e642b5b9e5e175d3075730"
            }
          },
          "metadata": {}
        }
      ]
    },
    {
      "cell_type": "code",
      "source": [
        "wrong = 0\n",
        "for i in range(len(pre)):\n",
        "  if pre[i]!=lab[i]:\n",
        "    wrong+=1\n",
        "\n",
        "print(f'Accuracy: {(len(lab)-wrong)/len(lab)}')\n",
        "\n",
        "find_wrong = {}\n",
        "label = {}\n",
        "for i in range(len(lab)):\n",
        "  if lab[i].strip() not in find_wrong:\n",
        "    find_wrong[lab[i].strip()] = 0\n",
        "  if lab[i].strip() not in label:\n",
        "    label[lab[i].strip()] = 0\n",
        "  if lab[i].strip()!=pre[i].strip():\n",
        "    find_wrong[lab[i].strip()]+=1\n",
        "  label[lab[i].strip()]+=1\n",
        "print('Accuracy:')\n",
        "for i in find_wrong:\n",
        "  print(f' {i}: {(label[i]-find_wrong[i])/label[i]: .3f}')"
      ],
      "metadata": {
        "colab": {
          "base_uri": "https://localhost:8080/"
        },
        "id": "eMW_0MXDfkrP",
        "outputId": "1c9fc33a-d50a-455f-baa8-8f468930de83"
      },
      "execution_count": null,
      "outputs": [
        {
          "output_type": "stream",
          "name": "stdout",
          "text": [
            "Accuracy: 0.5763765541740675\n",
            "Accuracy:\n",
            " sil:  0.992\n",
            " len:  0.080\n",
            " xuong:  1.000\n",
            " phai:  0.342\n",
            " B:  0.970\n",
            " A:  0.393\n",
            " trai:  0.087\n",
            " nhay:  0.377\n",
            " ban:  0.958\n"
          ]
        }
      ]
    },
    {
      "cell_type": "markdown",
      "source": [
        "# Đánh giá mô hình HMM"
      ],
      "metadata": {
        "id": "YZrbn1ckmfi-"
      }
    },
    {
      "cell_type": "code",
      "source": [
        "hmm_models = HMM()"
      ],
      "metadata": {
        "id": "8QCOwdeKgH9Z"
      },
      "execution_count": null,
      "outputs": []
    },
    {
      "cell_type": "code",
      "source": [
        "k = 1\n",
        "y, sr = librosa.load(f'/content/drive/MyDrive/Ex1-2022/02/18021371_NguyenManhTuan/c{k}.wav', duration=22050)\n",
        "t = open(f'/content/drive/MyDrive/Ex1-2022/02/18021371_NguyenManhTuan/c{k}.txt').read().split('\\n')\n",
        "times = []\n",
        "commands = []\n",
        "for i in t[:-1]:\n",
        "  times.append([float(i.split('\\t')[0]),float(i.split('\\t')[1])])\n",
        "  commands.append(i.split('\\t')[2])\n",
        "command_dict = {}\n",
        "for e, i in enumerate(commands):\n",
        "  if i not in command_dict:\n",
        "    command_dict[i] = []\n",
        "  command_dict[i].append(times[e])\n",
        "\n",
        "WORD = 'len'\n",
        "s = y[int(22050*command_dict[WORD][0][0]):int(22050*command_dict[WORD][0][1])]\n",
        "\n",
        "print(hmm_models.get_score(s, sr))\n",
        "idsp.Audio(data=s, rate=sr)"
      ],
      "metadata": {
        "colab": {
          "base_uri": "https://localhost:8080/",
          "height": 93
        },
        "id": "YDsk582zgRpk",
        "outputId": "3ba6c1c7-126e-4bd5-a139-ee9d3afebf6d"
      },
      "execution_count": 297,
      "outputs": [
        {
          "output_type": "stream",
          "name": "stdout",
          "text": [
            "len\n"
          ]
        },
        {
          "output_type": "execute_result",
          "data": {
            "text/plain": [
              "<IPython.lib.display.Audio object>"
            ],
            "text/html": [
              "\n",
              "                <audio controls=\"controls\" >\n",
              "                    <source src=\"data:audio/wav;base64,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\" type=\"audio/wav\" />\n",
              "                    Your browser does not support the audio element.\n",
              "                </audio>\n",
              "              "
            ]
          },
          "metadata": {},
          "execution_count": 297
        }
      ]
    },
    {
      "cell_type": "code",
      "source": [
        "import tqdm\n",
        "pre = []\n",
        "lab = []\n",
        "for k in tqdm.tqdm_notebook(range(1,101)):\n",
        "  y, sr = librosa.load(f'/content/drive/MyDrive/Ex1-2022/02/18021371_NguyenManhTuan/c{k}.wav', duration=22050)\n",
        "  t = open(f'/content/drive/MyDrive/Ex1-2022/02/18021371_NguyenManhTuan/c{k}.txt').read().split('\\n')\n",
        "\n",
        "  times = []\n",
        "  commands = []\n",
        "  for i in t[:-1]:\n",
        "    times.append([float(i.split('\\t')[0]),float(i.split('\\t')[1])])\n",
        "    commands.append(i.split('\\t')[2])\n",
        "\n",
        "  for i in range(len(times)):\n",
        "    if times[i][1] - times[i][0] > 0.2:\n",
        "      pre.append(hmm_models.get_score(y[int(22050*times[i][0]):int(22050*times[i][1])], sr))\n",
        "      lab.append(commands[i])"
      ],
      "metadata": {
        "colab": {
          "base_uri": "https://localhost:8080/",
          "height": 101,
          "referenced_widgets": [
            "a63d0545367f4722975639eb64eefc6e",
            "65a216cb61394106abfdc810cb5d4207",
            "bc36e59f3ab2475782b939edce81da5f",
            "5677101bf1d44fbd8df0d6a487755449",
            "5fbb1d19bcb4408aaa908e42ee6dddec",
            "1998baa7a8df4dbf92e3e3d209c1d52b",
            "76ff23c12e94411cb1409d26fe070800",
            "1c6e40426dc94e6c88463183449f0b81",
            "b795ab1f4b6246fca6daea90c7383889",
            "ae3cc3bd293b43bab13118dcc0a440c1",
            "1e32abe62d834367a1458e7510c1bf15"
          ]
        },
        "id": "BC5xe9MJbnx8",
        "outputId": "b007b501-f935-4f07-d205-5177cdfe2bea"
      },
      "execution_count": 298,
      "outputs": [
        {
          "output_type": "stream",
          "name": "stderr",
          "text": [
            "/usr/local/lib/python3.7/dist-packages/ipykernel_launcher.py:4: TqdmDeprecationWarning: This function will be removed in tqdm==5.0.0\n",
            "Please use `tqdm.notebook.tqdm` instead of `tqdm.tqdm_notebook`\n",
            "  after removing the cwd from sys.path.\n"
          ]
        },
        {
          "output_type": "display_data",
          "data": {
            "text/plain": [
              "  0%|          | 0/100 [00:00<?, ?it/s]"
            ],
            "application/vnd.jupyter.widget-view+json": {
              "version_major": 2,
              "version_minor": 0,
              "model_id": "a63d0545367f4722975639eb64eefc6e"
            }
          },
          "metadata": {}
        }
      ]
    },
    {
      "cell_type": "code",
      "source": [
        "wrong = 0\n",
        "for i in range(len(pre)):\n",
        "  if pre[i]!=lab[i]:\n",
        "    wrong+=1\n",
        "\n",
        "print(f'Accuracy: {(len(lab)-wrong)/len(lab)}')\n",
        "\n",
        "find_wrong = {}\n",
        "label = {}\n",
        "for i in range(len(lab)):\n",
        "  if lab[i].strip() not in find_wrong:\n",
        "    find_wrong[lab[i].strip()] = 0\n",
        "  if lab[i].strip() not in label:\n",
        "    label[lab[i].strip()] = 0\n",
        "  if lab[i].strip()!=pre[i].strip():\n",
        "    find_wrong[lab[i].strip()]+=1\n",
        "  label[lab[i].strip()]+=1\n",
        "print('Accuracy:')\n",
        "for i in find_wrong:\n",
        "  print(f' {i}: {(label[i]-find_wrong[i])/label[i]: .3f}')"
      ],
      "metadata": {
        "colab": {
          "base_uri": "https://localhost:8080/"
        },
        "id": "ianDSxgUcYGN",
        "outputId": "e815a953-3bdc-4551-c181-8b84413bdb64"
      },
      "execution_count": 299,
      "outputs": [
        {
          "output_type": "stream",
          "name": "stdout",
          "text": [
            "Accuracy: 0.1172291296625222\n",
            "Accuracy:\n",
            " sil:  0.008\n",
            " len:  1.000\n",
            " xuong:  0.050\n",
            " phai:  0.000\n",
            " B:  0.000\n",
            " A:  0.000\n",
            " trai:  0.000\n",
            " nhay:  0.000\n",
            " ban:  0.000\n"
          ]
        }
      ]
    },
    {
      "cell_type": "code",
      "source": [
        ""
      ],
      "metadata": {
        "id": "QZjilr3GgK_O"
      },
      "execution_count": null,
      "outputs": []
    }
  ]
}